{
 "cells": [
  {
   "attachments": {},
   "cell_type": "markdown",
   "metadata": {},
   "source": [
    "## Module 3: Multi-Agent Coordination\n",
    "\n",
    "##### Project Definition:\n",
    "* Given a defined task list (including pick and drop locations for N deliveries), operate M Crazyflie agents to complete the defined task as quickly as possible\n",
    "\n",
    "<img src=\"./media/world-file.PNG\"  width=\"50%\" height=\"20%\">\n",
    "\n",
    "* Here, number of tasks (N) is 4, and number of Crazyflie agents (M) is 3.\n",
    "* See image below for a graphical representation of the task list (specific information is provided in the `config.yaml` file)\n",
    "\n",
    "<img src=\"./media/robosys-module-3-project.PNG\"  width=\"50%\" height=\"30%\">\n",
    "\n",
    "<br>\n",
    "\n",
    "##### What to Do:\n",
    "\n",
    "1. Review and understand task and agent definitions in STEP 1 below\n",
    "\n",
    "2. Review and understand the *Multi-agent task assignment* implementation in STEP 2 below\n",
    "\n",
    "3. Implement a *Multi-agent path finding* algorithm (STEP 3 below) that computes a conflict-free paths/trajectory for each agent\n",
    "\n",
    "4. Integrate your trajectory-following algorithm from Module 2 (STEP 4 below)\n",
    "\n",
    "<br>\n",
    "\n",
    "\n"
   ]
  },
  {
   "attachments": {},
   "cell_type": "markdown",
   "metadata": {},
   "source": [
    "#### STEP 1: Define the task list, agent list and environment parameters"
   ]
  },
  {
   "cell_type": "code",
   "execution_count": null,
   "metadata": {},
   "outputs": [],
   "source": [
    "from scripts.utils import Task, Position, State, VelCommand\n",
    "import yaml\n",
    "import time\n",
    "\n",
    "# load configuration file from YAML file\n",
    "with open('./scripts/config.yaml', 'r') as file:\n",
    "    config = yaml.load(file, Loader=yaml.FullLoader)\n",
    "\n",
    "use_hardware = config['use_hardware']\n",
    "agent_init = config['agent_init']\n",
    "colors = config['agent_colors']\n",
    "time_delta = config['time_delta']\n",
    "env = config['map']\n",
    "num_agents = len(agent_init)\n",
    "\n",
    "\n",
    "print('Starting up the notebook for the Multi-Agent Coordination module... \\n')\n",
    "print(f'Number of Agents: [{num_agents}] -> {[agent_init[i][0] for i in range(len(agent_init))]}')\n",
    "print(f'Use Hardware: [{use_hardware}]')\n",
    "print(f'Time Delta (dt): [{time_delta}]')\n",
    "\n"
   ]
  },
  {
   "attachments": {},
   "cell_type": "markdown",
   "metadata": {},
   "source": [
    "##### 1.A. Define Task List"
   ]
  },
  {
   "cell_type": "code",
   "execution_count": null,
   "metadata": {},
   "outputs": [],
   "source": [
    "# create the task list\n",
    "task_list = dict()\n",
    "pick_locations = config['pick_loc']\n",
    "drop_locations = config['drop_loc']\n",
    "\n",
    "print('-----------------------')\n",
    "print('Task List')\n",
    "print('-----------------------')\n",
    "\n",
    "for i in range(len(pick_locations)):\n",
    "    t = Task(pick_loc=Position(x=pick_locations[i][1][0], y=pick_locations[i][1][1], z=pick_locations[i][1][2]),\n",
    "             drop_loc=Position(x=drop_locations[i][1][0], y=drop_locations[i][1][1], z=0.0), \n",
    "             pick_id=pick_locations[i][0], \n",
    "             drop_id=drop_locations[i][0], \n",
    "             id='T'+str(i), \n",
    "             priority=i)\n",
    "    task_list[pick_locations[i][0]] = t\n",
    "\n",
    "    print(f'Task {t.id}: {t.pick_id} -> {t.drop_id}')\n",
    "\n",
    "print('-----------------------')\n",
    "    "
   ]
  },
  {
   "attachments": {},
   "cell_type": "markdown",
   "metadata": {},
   "source": [
    "##### 1.B. Define Agent List"
   ]
  },
  {
   "cell_type": "code",
   "execution_count": null,
   "metadata": {},
   "outputs": [],
   "source": [
    "# create the agent list\n",
    "\n",
    "from scripts.Quadrotor import Quadrotor\n",
    "from scripts.Simulation import Simulation\n",
    "\n",
    "print('----------------------------------')\n",
    "print('Agent List (with home position)')\n",
    "print('----------------------------------')\n",
    "\n",
    "agent_list = dict()\n",
    "for i in range(num_agents):\n",
    "    # define initial state\n",
    "    start = State(x_pos=agent_init[i][1][0], \n",
    "                  y_pos=agent_init[i][1][1])\n",
    "    # define the appropriate URI\n",
    "    uri = 'radio://0/'+agent_init[i][0][2:]+'0/2M/E7E7E7E7E7'\n",
    "    # define agent as Quadrotor\n",
    "    agent = Quadrotor(init_state=start, \n",
    "                      color=colors[i], \n",
    "                      id=agent_init[i][0], \n",
    "                      uri=uri,\n",
    "                      take_off_height=agent_init[i][2], \n",
    "                      hardware_flag=use_hardware,\n",
    "                      dt=time_delta)\n",
    "    agent_list[agent._id] = agent\n",
    "\n",
    "    if use_hardware:\n",
    "        print(f'Agent {agent._id}: {agent_list[agent._id].get_pos().x, agent_list[agent._id].get_pos().y} \\\n",
    "              ---> {uri}')\n",
    "    else:\n",
    "        print(f'Agent {agent._id}: {agent_list[agent._id].get_pos().x, agent_list[agent._id].get_pos().y} ')\n",
    "\n",
    "\n",
    "print('----------------------------------')\n",
    "\n",
    "if use_hardware:\n",
    "    print('\\n !!!!!!!!Please ensure you confirm the Crazyflies are connected to the right radio channels!!!!!!!!')\n",
    "\n"
   ]
  },
  {
   "attachments": {},
   "cell_type": "markdown",
   "metadata": {},
   "source": [
    "#### STEP 2: Implement Multi-Agent Task Assignment"
   ]
  },
  {
   "attachments": {},
   "cell_type": "markdown",
   "metadata": {},
   "source": [
    "##### 2.A. Define the Ground Constrol System & compute assignment"
   ]
  },
  {
   "cell_type": "code",
   "execution_count": null,
   "metadata": {},
   "outputs": [],
   "source": [
    "from scripts.GroundControl import GroundControlSystem\n",
    "\n",
    "# instantiate ground control system object\n",
    "gcs = GroundControlSystem(agent_list=agent_list, \n",
    "                          task_list=task_list,\n",
    "                          env=env)\n",
    "\n",
    "# creates a directed graph based on the agents and task list\n",
    "gcs.set_task_graph(draw=True) # toggle draw True or False\n"
   ]
  },
  {
   "cell_type": "code",
   "execution_count": null,
   "metadata": {},
   "outputs": [],
   "source": [
    "\n",
    "print('----------------------')\n",
    "print('Task Assignment')\n",
    "print('----------------------')\n",
    "\n",
    "# create task assignment\n",
    "gcs.create_task_assignment()\n",
    "\n",
    "print('----------------------')\n",
    "\n",
    "\n",
    "# observe task assignment\n",
    "task_assignment = gcs.get_task_assignment(draw=True)\n"
   ]
  },
  {
   "attachments": {},
   "cell_type": "markdown",
   "metadata": {},
   "source": [
    "#### STEP 3: Implement Multi-Agent Path Finding"
   ]
  },
  {
   "cell_type": "code",
   "execution_count": null,
   "metadata": {},
   "outputs": [],
   "source": [
    "# 2D plot of the scene\n",
    "import plotly.graph_objects as go\n",
    "fig1 = go.Figure()\n",
    "fig2 = go.Figure()\n",
    "\n",
    "sim = Simulation(env=env, fig1=fig1, fig2=fig2)\n",
    "\n",
    "sim.add_agents(agent_list)\n",
    "sim.set_task_list(task_list)\n",
    "sim.init_plot()\n"
   ]
  },
  {
   "attachments": {},
   "cell_type": "markdown",
   "metadata": {},
   "source": [
    "##### 3.A. Compute collision-free paths"
   ]
  },
  {
   "cell_type": "code",
   "execution_count": null,
   "metadata": {},
   "outputs": [],
   "source": [
    "# Here, you should implement your multi-agent path finding algorithm...\n",
    "gcs.generate_agent_paths()\n",
    "\n",
    "\n",
    "\n",
    "# -----------------------------\n",
    "# Plotter\n",
    "# sim.init_plot()"
   ]
  },
  {
   "attachments": {},
   "cell_type": "markdown",
   "metadata": {},
   "source": [
    "### Main Control Loop"
   ]
  },
  {
   "attachments": {},
   "cell_type": "markdown",
   "metadata": {},
   "source": [
    "#### STEP 4: Implement the Path planning & collision avoidance algorithm"
   ]
  },
  {
   "cell_type": "code",
   "execution_count": null,
   "metadata": {},
   "outputs": [],
   "source": [
    "# Upload your functions from Module 2 here\n",
    "\n",
    "def kate_and_nates_agent_nav(agent: Quadrotor):\n",
    "    \"\"\"\n",
    "    set commander velocity in global frame\n",
    "    \"\"\"\n",
    "    V = VelCommand()\n",
    "\n",
    "    current_pos = agent.get_pos() \n",
    "    next_pos = agent._setpoints[agent._setpoints_index]\n",
    "\n",
    "    V.vx = (next_pos[0] - current_pos.x)/agent._time_delta\n",
    "    V.vy = (next_pos[1] - current_pos.y)/agent._time_delta\n",
    "    V.vz = (next_pos[2] - current_pos.z)/agent._time_delta\n",
    "    V.v_psi = 0.0\n",
    "\n",
    "    agent._setpoints_index += 1\n",
    "    agent.velocity_setpoint_hw_global(V)\n",
    "\n",
    "\n",
    "def agent_nav(agent: Quadrotor):\n",
    "    V = VelCommand()\n",
    "    V.vx = 0.2\n",
    "    V.vy = 0.0\n",
    "    V.vz = 0.0\n",
    "    V.v_psi = 0.0\n",
    "    \n",
    "    if agent._hardware_flag:\n",
    "        agent.velocity_setpoint_hw(V)\n",
    "    else:\n",
    "        agent.velocity_setpoint_sim(V)\n"
   ]
  },
  {
   "attachments": {},
   "cell_type": "markdown",
   "metadata": {},
   "source": [
    "##### STEP 5: Run the Main control loop"
   ]
  },
  {
   "attachments": {},
   "cell_type": "markdown",
   "metadata": {},
   "source": [
    "##### 5.A. Run a hardware test [If using hardware]"
   ]
  },
  {
   "cell_type": "code",
   "execution_count": null,
   "metadata": {},
   "outputs": [],
   "source": [
    "# for agent in agent_list.values():\n",
    "#     agent.initialize_agent()\n",
    "\n",
    "\n",
    "# time.sleep(3)\n",
    "\n",
    "\n",
    "# for agent in agent_list.values():\n",
    "#     agent.land()\n"
   ]
  },
  {
   "attachments": {},
   "cell_type": "markdown",
   "metadata": {},
   "source": [
    "##### 5.B. Run main loop"
   ]
  },
  {
   "cell_type": "code",
   "execution_count": null,
   "metadata": {},
   "outputs": [],
   "source": [
    "time_lapse = 0\n",
    "flight_duration = 3\n",
    "\n",
    "# initialize and take off all agents\n",
    "for agent in agent_list.values():\n",
    "    agent.initialize_agent()\n",
    "\n",
    "time.sleep(3)\n",
    "\n",
    "# while True:\n",
    "while time_lapse < flight_duration: #secs\n",
    "\n",
    "    for agent in agent_list.values():\n",
    "\n",
    "        agent.control_method = agent_nav(agent)\n",
    "        \n",
    "        # print out current position of each agent\n",
    "        x, y, z = agent.get_pos().x, agent.get_pos().y, agent.get_pos().z\n",
    "        print(f'Agent [{agent._id}]: t = {time_lapse} -> [x, y, z] = [{x:0.3f}, {y:0.3f}, {z:0.3f}]')\n",
    "        \n",
    "    print('------------------------------------')    \n",
    "\n",
    "    # keep track of time lapsed\n",
    "    time_lapse += time_delta\n",
    "\n",
    "    time.sleep(time_delta) \n",
    "\n",
    "# land all agents\n",
    "for agent in agent_list.values():\n",
    "    agent.land()\n",
    "\n",
    "# plot the agent trajectory\n",
    "sim.update_plot()\n"
   ]
  }
 ],
 "metadata": {
  "kernelspec": {
   "display_name": "Python 3",
   "language": "python",
   "name": "python3"
  },
  "language_info": {
   "codemirror_mode": {
    "name": "ipython",
    "version": 3
   },
   "file_extension": ".py",
   "mimetype": "text/x-python",
   "name": "python",
   "nbconvert_exporter": "python",
   "pygments_lexer": "ipython3",
   "version": "3.10.10"
  },
  "orig_nbformat": 4,
  "vscode": {
   "interpreter": {
    "hash": "aee8b7b246df8f9039afb4144a1f6fd8d2ca17a180786b69acc140d282b71a49"
   }
  }
 },
 "nbformat": 4,
 "nbformat_minor": 2
}
